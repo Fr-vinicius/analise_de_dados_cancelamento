import pandas as pd
import plotly.express as px 

# importando a tabela e evidenciando os dados para uma primeira visualização

Tabela = pd.read_csv("cancelamentos.csv")
display(Tabela)
display(Tabela.info())

# após visualizar a tabela, é importante identificar e remover campos vazios e colunas com informações irrelevantes

Tabela = Tabela.drop("CustomerID", axis=1)
Tabela = Tabela.dropna()
display(Tabela.info())

# verificando a porcentagem de cancelamentos e permanência

display(Tabela["cancelou"].value_counts())
display(Tabela["cancelou"].value_counts(normalize=True).map("{:.1%}".format))
display(Tabela)

# verificando a porcentagem de cada tipo de assinatura

display(Tabela["duracao_contrato"].value_counts(normalize=True).map("{:.1%}".format))

# analisando a assinatura mensal

display(Tabela.groupby("duracao_contrato").mean(numeric_only=True))

# descobrimos que a assinatura mensal é propensa a cancelamentos, vamos remover ela para ver como ficaria a taxa de cancelamento e continuar analisando

TabelaSemMensal = Tabela[Tabela["duracao_contrato"]!="Monthly"]

display(TabelaSemMensal["cancelou"].value_counts(normalize=True).map("{:.1%}".format))

# podemos notar que removendo a assinatura mensal diminuimos em menos da metade os cancelamentos, mas ainda temos uma taxa alta

# analisando os tipos de plano

display(Tabela.groupby("assinatura").mean(numeric_only=True))

display(Tabela["assinatura"].value_counts(normalize=True).map("{:.1%}".format))

# vamos criar gráficos para facilitar a visualização

for coluna in Tabela.columns:
    Grafico = px.histogram(Tabela, x= coluna, color="cancelou", width=600)
    Grafico.show()


# analisando os gráficos é possível verificar 3 pontos críticos que precisam ser mudados:
    # 1- a assinatura mensal favorece o cancelamento, levando em conta que 100% dos assinantes no plano mensal cancelaram;
    # 2- a quantidade de ligações para o call center interfere diretamente no cancelamento, todos que ligaram mais de 4 vezes cancelaram;
    # 3- a inadimplência também é fator determinante, aqueles que estão com dívida a mais de 20 dias cancelaram.

Tabela = Tabela[Tabela["duracao_contrato"]!="Monthly"]
Tabela = Tabela[Tabela["ligacoes_callcenter"]<=4]
Tabela = Tabela[Tabela["dias_atraso"]<= 20]

display(Tabela["cancelou"].value_counts(normalize=True).map("{:.1%}".format))

Verificamos que: resolvendo as 3 pendências citadas acima, a taxa de cancelamento cairá para uma média de 18%
